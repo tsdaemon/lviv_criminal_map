{
 "cells": [
  {
   "cell_type": "markdown",
   "metadata": {},
   "source": [
    "### Initial exploratory data analysis\n",
    "\n",
    "Usually for data analysis I use Python. But I have selected R to perform EDA for it powerful visualization tools. Especialy ggplot, which is have port to Python, but documentation is poor and features are limited.\n",
    "\n",
    "First, I wanted to see a split of cases by type. At the moment I decided to choose one color scheme for cases types to use it in all further plots. Here http://colorbrewer2.org/#type=qualitative&scheme=Dark2&n=3 I have chosen dark color scheme with 3 distinctive colors: #d95f02 for robbery, #1b9e77 for theft, #7570b3 for fraud. Roberies have the smallest share overall cases, but they are more important as they indicate much more serious criminal problems. Therefore I have chosen a noticeable orange color for robberies."
   ]
  },
  {
   "cell_type": "code",
   "execution_count": 6,
   "metadata": {
    "collapsed": false
   },
   "outputs": [
    {
     "data": {
      "text/html": [
       "'Ukrainian_Ukraine.1251'"
      ],
      "text/latex": [
       "'Ukrainian\\_Ukraine.1251'"
      ],
      "text/markdown": [
       "'Ukrainian_Ukraine.1251'"
      ],
      "text/plain": [
       "[1] \"Ukrainian_Ukraine.1251\""
      ]
     },
     "metadata": {},
     "output_type": "display_data"
    },
    {
     "data": {
      "text/html": [
       "<table>\n",
       "<thead><tr><th scope=col>Будинок</th><th scope=col>Вулиця</th><th scope=col>Дата.час</th><th scope=col>Орган</th><th scope=col>Тип</th><th scope=col>Час</th><th scope=col>Latitude</th><th scope=col>Longitude</th><th scope=col>Час..секунди</th></tr></thead>\n",
       "<tbody>\n",
       "\t<tr><td>11А                                                 </td><td>22 січня (Рудно)                                    </td><td>13.09.2015 17:05                                    </td><td>ЗАЛІЗНИЧНИЙ ВІДДІЛ ПОЛІЦІЇ ГУНП У ЛЬВІВСЬКІЙ ОБЛАСТІ</td><td>Крадіжка                                            </td><td>17:05:00                                            </td><td>49.83410                                            </td><td>23.88709                                            </td><td>61500                                               </td></tr>\n",
       "\t<tr><td>7                                                   </td><td>Авіаційна                                           </td><td>23.12.2015 10:02                                    </td><td>ЗАЛІЗНИЧНИЙ ВІДДІЛ ПОЛІЦІЇ ГУНП У ЛЬВІВСЬКІЙ ОБЛАСТІ</td><td>Крадіжка                                            </td><td>10:02:00                                            </td><td>49.81093                                            </td><td>23.93180                                            </td><td>36120                                               </td></tr>\n",
       "\t<tr><td>                                                    </td><td>Авіаційна                                           </td><td>05.12.2015 13:20                                    </td><td>ЗАЛІЗНИЧНИЙ ВІДДІЛ ПОЛІЦІЇ ГУНП У ЛЬВІВСЬКІЙ ОБЛАСТІ</td><td>Крадіжка                                            </td><td>13:20:00                                            </td><td>49.81252                                            </td><td>23.92972                                            </td><td>48000                                               </td></tr>\n",
       "\t<tr><td>1                                                   </td><td>Авіаційна                                           </td><td>30.11.2015 19:30                                    </td><td>ЗАЛІЗНИЧНИЙ ВІДДІЛ ПОЛІЦІЇ ГУНП У ЛЬВІВСЬКІЙ ОБЛАСТІ</td><td>Крадіжка                                            </td><td>19:30:00                                            </td><td>49.81684                                            </td><td>23.92693                                            </td><td>70200                                               </td></tr>\n",
       "\t<tr><td>                                                    </td><td>Авіаційна                                           </td><td>27.11.2015 11:00                                    </td><td>ЗАЛІЗНИЧНИЙ ВІДДІЛ ПОЛІЦІЇ ГУНП У ЛЬВІВСЬКІЙ ОБЛАСТІ</td><td>Крадіжка                                            </td><td>11:00:00                                            </td><td>49.81252                                            </td><td>23.92972                                            </td><td>39600                                               </td></tr>\n",
       "\t<tr><td>2                                                   </td><td>Авіаційна                                           </td><td>01.11.2015 11:53                                    </td><td>ЗАЛІЗНИЧНИЙ ВІДДІЛ ПОЛІЦІЇ ГУНП У ЛЬВІВСЬКІЙ ОБЛАСТІ</td><td>Крадіжка                                            </td><td>11:53:00                                            </td><td>49.82073                                            </td><td>23.93509                                            </td><td>42780                                               </td></tr>\n",
       "</tbody>\n",
       "</table>\n"
      ],
      "text/latex": [
       "\\begin{tabular}{r|lllllllll}\n",
       " Будинок & Вулиця & Дата.час & Орган & Тип & Час & Latitude & Longitude & Час..секунди\\\\\n",
       "\\hline\n",
       "\t 11А                                                  & 22 січня (Рудно)                                     & 13.09.2015 17:05                                     & ЗАЛІЗНИЧНИЙ ВІДДІЛ ПОЛІЦІЇ ГУНП У ЛЬВІВСЬКІЙ ОБЛАСТІ & Крадіжка                                             & 17:05:00                                             & 49.83410                                             & 23.88709                                             & 61500                                               \\\\\n",
       "\t 7                                                    & Авіаційна                                            & 23.12.2015 10:02                                     & ЗАЛІЗНИЧНИЙ ВІДДІЛ ПОЛІЦІЇ ГУНП У ЛЬВІВСЬКІЙ ОБЛАСТІ & Крадіжка                                             & 10:02:00                                             & 49.81093                                             & 23.93180                                             & 36120                                               \\\\\n",
       "\t                                                      & Авіаційна                                            & 05.12.2015 13:20                                     & ЗАЛІЗНИЧНИЙ ВІДДІЛ ПОЛІЦІЇ ГУНП У ЛЬВІВСЬКІЙ ОБЛАСТІ & Крадіжка                                             & 13:20:00                                             & 49.81252                                             & 23.92972                                             & 48000                                               \\\\\n",
       "\t 1                                                    & Авіаційна                                            & 30.11.2015 19:30                                     & ЗАЛІЗНИЧНИЙ ВІДДІЛ ПОЛІЦІЇ ГУНП У ЛЬВІВСЬКІЙ ОБЛАСТІ & Крадіжка                                             & 19:30:00                                             & 49.81684                                             & 23.92693                                             & 70200                                               \\\\\n",
       "\t                                                      & Авіаційна                                            & 27.11.2015 11:00                                     & ЗАЛІЗНИЧНИЙ ВІДДІЛ ПОЛІЦІЇ ГУНП У ЛЬВІВСЬКІЙ ОБЛАСТІ & Крадіжка                                             & 11:00:00                                             & 49.81252                                             & 23.92972                                             & 39600                                               \\\\\n",
       "\t 2                                                    & Авіаційна                                            & 01.11.2015 11:53                                     & ЗАЛІЗНИЧНИЙ ВІДДІЛ ПОЛІЦІЇ ГУНП У ЛЬВІВСЬКІЙ ОБЛАСТІ & Крадіжка                                             & 11:53:00                                             & 49.82073                                             & 23.93509                                             & 42780                                               \\\\\n",
       "\\end{tabular}\n"
      ],
      "text/markdown": [
       "\n",
       "Будинок | Вулиця | Дата.час | Орган | Тип | Час | Latitude | Longitude | Час..секунди | \n",
       "|---|---|---|---|---|---|\n",
       "| 11А                                                  | 22 січня (Рудно)                                     | 13.09.2015 17:05                                     | ЗАЛІЗНИЧНИЙ ВІДДІЛ ПОЛІЦІЇ ГУНП У ЛЬВІВСЬКІЙ ОБЛАСТІ | Крадіжка                                             | 17:05:00                                             | 49.83410                                             | 23.88709                                             | 61500                                                | \n",
       "| 7                                                    | Авіаційна                                            | 23.12.2015 10:02                                     | ЗАЛІЗНИЧНИЙ ВІДДІЛ ПОЛІЦІЇ ГУНП У ЛЬВІВСЬКІЙ ОБЛАСТІ | Крадіжка                                             | 10:02:00                                             | 49.81093                                             | 23.93180                                             | 36120                                                | \n",
       "|                                                      | Авіаційна                                            | 05.12.2015 13:20                                     | ЗАЛІЗНИЧНИЙ ВІДДІЛ ПОЛІЦІЇ ГУНП У ЛЬВІВСЬКІЙ ОБЛАСТІ | Крадіжка                                             | 13:20:00                                             | 49.81252                                             | 23.92972                                             | 48000                                                | \n",
       "| 1                                                    | Авіаційна                                            | 30.11.2015 19:30                                     | ЗАЛІЗНИЧНИЙ ВІДДІЛ ПОЛІЦІЇ ГУНП У ЛЬВІВСЬКІЙ ОБЛАСТІ | Крадіжка                                             | 19:30:00                                             | 49.81684                                             | 23.92693                                             | 70200                                                | \n",
       "|                                                      | Авіаційна                                            | 27.11.2015 11:00                                     | ЗАЛІЗНИЧНИЙ ВІДДІЛ ПОЛІЦІЇ ГУНП У ЛЬВІВСЬКІЙ ОБЛАСТІ | Крадіжка                                             | 11:00:00                                             | 49.81252                                             | 23.92972                                             | 39600                                                | \n",
       "| 2                                                    | Авіаційна                                            | 01.11.2015 11:53                                     | ЗАЛІЗНИЧНИЙ ВІДДІЛ ПОЛІЦІЇ ГУНП У ЛЬВІВСЬКІЙ ОБЛАСТІ | Крадіжка                                             | 11:53:00                                             | 49.82073                                             | 23.93509                                             | 42780                                                | \n",
       "\n",
       "\n"
      ],
      "text/plain": [
       "  Будинок Вулиця           Дата.час        \n",
       "1 11А     22 січня (Рудно) 13.09.2015 17:05\n",
       "2 7       Авіаційна        23.12.2015 10:02\n",
       "3         Авіаційна        05.12.2015 13:20\n",
       "4 1       Авіаційна        30.11.2015 19:30\n",
       "5         Авіаційна        27.11.2015 11:00\n",
       "6 2       Авіаційна        01.11.2015 11:53\n",
       "  Орган                                                Тип      Час     \n",
       "1 ЗАЛІЗНИЧНИЙ ВІДДІЛ ПОЛІЦІЇ ГУНП У ЛЬВІВСЬКІЙ ОБЛАСТІ Крадіжка 17:05:00\n",
       "2 ЗАЛІЗНИЧНИЙ ВІДДІЛ ПОЛІЦІЇ ГУНП У ЛЬВІВСЬКІЙ ОБЛАСТІ Крадіжка 10:02:00\n",
       "3 ЗАЛІЗНИЧНИЙ ВІДДІЛ ПОЛІЦІЇ ГУНП У ЛЬВІВСЬКІЙ ОБЛАСТІ Крадіжка 13:20:00\n",
       "4 ЗАЛІЗНИЧНИЙ ВІДДІЛ ПОЛІЦІЇ ГУНП У ЛЬВІВСЬКІЙ ОБЛАСТІ Крадіжка 19:30:00\n",
       "5 ЗАЛІЗНИЧНИЙ ВІДДІЛ ПОЛІЦІЇ ГУНП У ЛЬВІВСЬКІЙ ОБЛАСТІ Крадіжка 11:00:00\n",
       "6 ЗАЛІЗНИЧНИЙ ВІДДІЛ ПОЛІЦІЇ ГУНП У ЛЬВІВСЬКІЙ ОБЛАСТІ Крадіжка 11:53:00\n",
       "  Latitude Longitude Час..секунди\n",
       "1 49.83410 23.88709  61500       \n",
       "2 49.81093 23.93180  36120       \n",
       "3 49.81252 23.92972  48000       \n",
       "4 49.81684 23.92693  70200       \n",
       "5 49.81252 23.92972  39600       \n",
       "6 49.82073 23.93509  42780       "
      ]
     },
     "metadata": {},
     "output_type": "display_data"
    }
   ],
   "source": [
    "library(ggplot2)\n",
    "Sys.setlocale(\"LC_CTYPE\", \"ukrainian\")\n",
    "\n",
    "criminal = read.csv(\"criminal.csv\", encoding=\"UTF-8\")\n",
    "head(criminal)"
   ]
  },
  {
   "cell_type": "code",
   "execution_count": 2,
   "metadata": {
    "collapsed": false
   },
   "outputs": [
    {
     "data": {},
     "metadata": {},
     "output_type": "display_data"
    },
    {
     "data": {
      "image/png": "[encoded data removed]",
      "text/plain": [
       "plot without title"
      ]
     },
     "metadata": {},
     "output_type": "display_data"
    }
   ],
   "source": [
    "options(repr.plot.width=6, repr.plot.height=4)\n",
    "pl <- ggplot(criminal, aes_string(x='Тип', fill='Тип')) + \n",
    "    geom_bar() + \n",
    "    scale_fill_manual(values=c(\"#1b9e77\", \"#d95f02\", \"#7570b3\"))\n",
    "pl"
   ]
  },
  {
   "cell_type": "markdown",
   "metadata": {},
   "source": [
    "Seems to be a good idea for a next step to analyze daily criminal activity and detect the most dangerous time."
   ]
  },
  {
   "cell_type": "code",
   "execution_count": 3,
   "metadata": {
    "collapsed": false
   },
   "outputs": [
    {
     "data": {},
     "metadata": {},
     "output_type": "display_data"
    },
    {
     "data": {
      "image/png": "[encoded data removed]",
      "text/plain": [
       "plot without title"
      ]
     },
     "metadata": {},
     "output_type": "display_data"
    }
   ],
   "source": [
    "hours_label <- function(seconds) {\n",
    "    hour <- floor(seconds / 3600)\n",
    "    return(paste(sprintf(\"%02d\", hour), \":00\"))\n",
    "}\n",
    "              \n",
    "ggplot(criminal, aes_string(x='Час..секунди', color='Тип', fill='Тип')) + \n",
    "    geom_density() + \n",
    "    facet_wrap(as.formula(paste(\"~\", \"Тип\")), ncol=1) + \n",
    "    scale_color_manual(values=c(\"#1b9e77\", \"#d95f02\", \"#7570b3\")) + \n",
    "    scale_fill_manual(values=c(\"#ffffff\", \"#ffffff\", \"#ffffff\")) + \n",
    "    scale_x_continuous(breaks = seq(0,3600*24, 3*3600), labels=hours_label, name='Час')"
   ]
  }
 ],
 "metadata": {
  "anaconda-cloud": {},
  "kernelspec": {
   "display_name": "R",
   "language": "R",
   "name": "ir"
  },
  "language_info": {
   "codemirror_mode": "r",
   "file_extension": ".r",
   "mimetype": "text/x-r-source",
   "name": "R",
   "pygments_lexer": "r",
   "version": "3.3.2"
  }
 },
 "nbformat": 4,
 "nbformat_minor": 0
}
