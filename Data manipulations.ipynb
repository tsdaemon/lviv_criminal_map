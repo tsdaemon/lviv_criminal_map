{
 "cells": [
  {
   "cell_type": "markdown",
   "metadata": {},
   "source": [
    "## Data gathering and cleanup"
   ]
  },
  {
   "cell_type": "markdown",
   "metadata": {},
   "source": [
    "### Intro\n",
    "\n",
    "Looking for a project idea, I went through different examples of fancy data visualization. But those examples was mostly based on data, unavailable for Ukraine, whereas I was highly interested in a project, related to the local community. Therefore I decided to look in open data portals.\n",
    "\n",
    "First I took a look at the main portal of Ukrainian open data (http://data.gov.ua/). Now it mostly consists of non-table documents without any search filter for a document type. There why I decided to look for other sources.\n",
    "\n",
    "Secondly, I visit Lviv open data portal (http://opendata.city-adm.lviv.ua/). Here I found datasets with the history of thefts, robberies and frauds cases detected in Lviv during 2015. And it looked like a good idea to visualize a map of this events to detect most dangerous places in Lviv. Dataset contains over 13 thousands of crime cases, which seems to be enough to analyse a criminal picture of the city with population of 800 thousands people."
   ]
  },
  {
   "cell_type": "markdown",
   "metadata": {},
   "source": [
    "### Data preparation\n",
    "\n",
    "Data was saved in three datasets with common structure."
   ]
  },
  {
   "cell_type": "code",
   "execution_count": 17,
   "metadata": {
    "collapsed": false
   },
   "outputs": [],
   "source": [
    "import pandas as pd\n",
    "theft = pd.read_csv(\"theft.csv\", sep=\";\")\n",
    "robbery = pd.read_csv(\"robbery.csv\", sep=\";\")\n",
    "fraud = pd.read_csv(\"fraud.csv\", sep=\";\")"
   ]
  },
  {
   "cell_type": "code",
   "execution_count": 18,
   "metadata": {
    "collapsed": false
   },
   "outputs": [
    {
     "data": {
      "text/html": [
       "<div>\n",
       "<table border=\"1\" class=\"dataframe\">\n",
       "  <thead>\n",
       "    <tr style=\"text-align: right;\">\n",
       "      <th></th>\n",
       "      <th>Орган/район</th>\n",
       "      <th>Дата/час скоєння</th>\n",
       "      <th>Вулиця</th>\n",
       "      <th>Будинок</th>\n",
       "    </tr>\n",
       "  </thead>\n",
       "  <tbody>\n",
       "    <tr>\n",
       "      <th>0</th>\n",
       "      <td>ЗАЛІЗНИЧНИЙ ВІДДІЛ ПОЛІЦІЇ ГУНП У ЛЬВІВСЬКІЙ О...</td>\n",
       "      <td>13.09.2015 17:05</td>\n",
       "      <td>22 січня (Рудно)</td>\n",
       "      <td>11А</td>\n",
       "    </tr>\n",
       "    <tr>\n",
       "      <th>1</th>\n",
       "      <td>ЗАЛІЗНИЧНИЙ ВІДДІЛ ПОЛІЦІЇ ГУНП У ЛЬВІВСЬКІЙ О...</td>\n",
       "      <td>23.12.2015 10:02</td>\n",
       "      <td>Авіаційна</td>\n",
       "      <td>7</td>\n",
       "    </tr>\n",
       "    <tr>\n",
       "      <th>2</th>\n",
       "      <td>ЗАЛІЗНИЧНИЙ ВІДДІЛ ПОЛІЦІЇ ГУНП У ЛЬВІВСЬКІЙ О...</td>\n",
       "      <td>05.12.2015 13:20</td>\n",
       "      <td>Авіаційна</td>\n",
       "      <td>NaN</td>\n",
       "    </tr>\n",
       "    <tr>\n",
       "      <th>3</th>\n",
       "      <td>ЗАЛІЗНИЧНИЙ ВІДДІЛ ПОЛІЦІЇ ГУНП У ЛЬВІВСЬКІЙ О...</td>\n",
       "      <td>30.11.2015 19:30</td>\n",
       "      <td>Авіаційна</td>\n",
       "      <td>1</td>\n",
       "    </tr>\n",
       "    <tr>\n",
       "      <th>4</th>\n",
       "      <td>ЗАЛІЗНИЧНИЙ ВІДДІЛ ПОЛІЦІЇ ГУНП У ЛЬВІВСЬКІЙ О...</td>\n",
       "      <td>27.11.2015 11:00</td>\n",
       "      <td>Авіаційна</td>\n",
       "      <td>NaN</td>\n",
       "    </tr>\n",
       "  </tbody>\n",
       "</table>\n",
       "</div>"
      ],
      "text/plain": [
       "                                         Орган/район  Дата/час скоєння  \\\n",
       "0  ЗАЛІЗНИЧНИЙ ВІДДІЛ ПОЛІЦІЇ ГУНП У ЛЬВІВСЬКІЙ О...  13.09.2015 17:05   \n",
       "1  ЗАЛІЗНИЧНИЙ ВІДДІЛ ПОЛІЦІЇ ГУНП У ЛЬВІВСЬКІЙ О...  23.12.2015 10:02   \n",
       "2  ЗАЛІЗНИЧНИЙ ВІДДІЛ ПОЛІЦІЇ ГУНП У ЛЬВІВСЬКІЙ О...  05.12.2015 13:20   \n",
       "3  ЗАЛІЗНИЧНИЙ ВІДДІЛ ПОЛІЦІЇ ГУНП У ЛЬВІВСЬКІЙ О...  30.11.2015 19:30   \n",
       "4  ЗАЛІЗНИЧНИЙ ВІДДІЛ ПОЛІЦІЇ ГУНП У ЛЬВІВСЬКІЙ О...  27.11.2015 11:00   \n",
       "\n",
       "             Вулиця Будинок  \n",
       "0  22 січня (Рудно)     11А  \n",
       "1         Авіаційна       7  \n",
       "2         Авіаційна     NaN  \n",
       "3         Авіаційна       1  \n",
       "4         Авіаційна     NaN  "
      ]
     },
     "execution_count": 18,
     "metadata": {},
     "output_type": "execute_result"
    }
   ],
   "source": [
    "theft.head()"
   ]
  },
  {
   "cell_type": "code",
   "execution_count": 19,
   "metadata": {
    "collapsed": false
   },
   "outputs": [
    {
     "data": {
      "text/html": [
       "<div>\n",
       "<table border=\"1\" class=\"dataframe\">\n",
       "  <thead>\n",
       "    <tr style=\"text-align: right;\">\n",
       "      <th></th>\n",
       "      <th>Орган/район</th>\n",
       "      <th>Дата/час скоєння</th>\n",
       "      <th>Вулиця</th>\n",
       "      <th>Будинок</th>\n",
       "      <th>EO особа</th>\n",
       "    </tr>\n",
       "  </thead>\n",
       "  <tbody>\n",
       "    <tr>\n",
       "      <th>0</th>\n",
       "      <td>ФРАНКІВСЬКИЙ ВІДДІЛ ПОЛІЦІЇ ГУНП У ЛЬВІВСЬКІЙ ...</td>\n",
       "      <td>12.04.2015 22:17</td>\n",
       "      <td>Айвазовського І.</td>\n",
       "      <td>10</td>\n",
       "      <td>ЗАЯВНИК</td>\n",
       "    </tr>\n",
       "    <tr>\n",
       "      <th>1</th>\n",
       "      <td>ГАЛИЦЬКИЙ ВІДДІЛ ПОЛІЦІЇ ГУНП У ЛЬВІВСЬКІЙ ОБЛ...</td>\n",
       "      <td>08.07.2015 10:52</td>\n",
       "      <td>Архипенка О.</td>\n",
       "      <td>NaN</td>\n",
       "      <td>УЧАСНИК ПОДІІ</td>\n",
       "    </tr>\n",
       "    <tr>\n",
       "      <th>2</th>\n",
       "      <td>ГАЛИЦЬКИЙ ВІДДІЛ ПОЛІЦІЇ ГУНП У ЛЬВІВСЬКІЙ ОБЛ...</td>\n",
       "      <td>30.03.2015 23:05</td>\n",
       "      <td>Лепкого Б.</td>\n",
       "      <td>NaN</td>\n",
       "      <td>ЗАЯВНИК</td>\n",
       "    </tr>\n",
       "    <tr>\n",
       "      <th>3</th>\n",
       "      <td>ЛИЧАКІВСЬКИЙ ВІДДІЛ ПОЛІЦІЇ ГУНП У ЛЬВІВСЬКІЙ ...</td>\n",
       "      <td>27.08.2015 17:08</td>\n",
       "      <td>Хмельницького (Винники)</td>\n",
       "      <td>176</td>\n",
       "      <td>ЗАЯВНИК</td>\n",
       "    </tr>\n",
       "    <tr>\n",
       "      <th>4</th>\n",
       "      <td>ШЕВЧЕНКІВСЬКИЙ ВІДДІЛ ПОЛІЦІЇ ГУНП У ЛЬВІВСЬКІ...</td>\n",
       "      <td>27.10.2015 12:27</td>\n",
       "      <td>Базарна</td>\n",
       "      <td>50</td>\n",
       "      <td>ЗАЯВНИК</td>\n",
       "    </tr>\n",
       "  </tbody>\n",
       "</table>\n",
       "</div>"
      ],
      "text/plain": [
       "                                         Орган/район  Дата/час скоєння  \\\n",
       "0  ФРАНКІВСЬКИЙ ВІДДІЛ ПОЛІЦІЇ ГУНП У ЛЬВІВСЬКІЙ ...  12.04.2015 22:17   \n",
       "1  ГАЛИЦЬКИЙ ВІДДІЛ ПОЛІЦІЇ ГУНП У ЛЬВІВСЬКІЙ ОБЛ...  08.07.2015 10:52   \n",
       "2  ГАЛИЦЬКИЙ ВІДДІЛ ПОЛІЦІЇ ГУНП У ЛЬВІВСЬКІЙ ОБЛ...  30.03.2015 23:05   \n",
       "3  ЛИЧАКІВСЬКИЙ ВІДДІЛ ПОЛІЦІЇ ГУНП У ЛЬВІВСЬКІЙ ...  27.08.2015 17:08   \n",
       "4  ШЕВЧЕНКІВСЬКИЙ ВІДДІЛ ПОЛІЦІЇ ГУНП У ЛЬВІВСЬКІ...  27.10.2015 12:27   \n",
       "\n",
       "                    Вулиця Будинок       EO особа  \n",
       "0         Айвазовського І.      10        ЗАЯВНИК  \n",
       "1             Архипенка О.     NaN  УЧАСНИК ПОДІІ  \n",
       "2               Лепкого Б.     NaN        ЗАЯВНИК  \n",
       "3  Хмельницького (Винники)     176        ЗАЯВНИК  \n",
       "4                  Базарна      50        ЗАЯВНИК  "
      ]
     },
     "execution_count": 19,
     "metadata": {},
     "output_type": "execute_result"
    }
   ],
   "source": [
    "robbery.head()"
   ]
  },
  {
   "cell_type": "code",
   "execution_count": 20,
   "metadata": {
    "collapsed": false
   },
   "outputs": [
    {
     "data": {
      "text/html": [
       "<div>\n",
       "<table border=\"1\" class=\"dataframe\">\n",
       "  <thead>\n",
       "    <tr style=\"text-align: right;\">\n",
       "      <th></th>\n",
       "      <th>Орган</th>\n",
       "      <th>Дата скоєння</th>\n",
       "      <th>Вулиця</th>\n",
       "      <th>Будинок</th>\n",
       "      <th>EO особа</th>\n",
       "    </tr>\n",
       "  </thead>\n",
       "  <tbody>\n",
       "    <tr>\n",
       "      <th>0</th>\n",
       "      <td>СИХІВСЬКИЙ ВІДДІЛ ПОЛІЦІЇ ГУНП У ЛЬВІВСЬКІЙ ОБ...</td>\n",
       "      <td>31.03.2015 18:00</td>\n",
       "      <td>Антоненка-Давидовича Б.</td>\n",
       "      <td>NaN</td>\n",
       "      <td>ЗАЯВНИК</td>\n",
       "    </tr>\n",
       "    <tr>\n",
       "      <th>1</th>\n",
       "      <td>СИХІВСЬКИЙ ВІДДІЛ ПОЛІЦІЇ ГУНП У ЛЬВІВСЬКІЙ ОБ...</td>\n",
       "      <td>25.04.2015 11:25</td>\n",
       "      <td>Антоненка-Давидовича Б.</td>\n",
       "      <td>4</td>\n",
       "      <td>ЗАЯВНИК</td>\n",
       "    </tr>\n",
       "    <tr>\n",
       "      <th>2</th>\n",
       "      <td>СИХІВСЬКИЙ ВІДДІЛ ПОЛІЦІЇ ГУНП У ЛЬВІВСЬКІЙ ОБ...</td>\n",
       "      <td>14.08.2015 13:00</td>\n",
       "      <td>Антоненка-Давидовича Б.</td>\n",
       "      <td>NaN</td>\n",
       "      <td>ЗАЯВНИК</td>\n",
       "    </tr>\n",
       "    <tr>\n",
       "      <th>3</th>\n",
       "      <td>СИХІВСЬКИЙ ВІДДІЛ ПОЛІЦІЇ ГУНП У ЛЬВІВСЬКІЙ ОБ...</td>\n",
       "      <td>23.10.2015 17:06</td>\n",
       "      <td>Антоненка-Давидовича Б.</td>\n",
       "      <td>NaN</td>\n",
       "      <td>ЗАЯВНИК</td>\n",
       "    </tr>\n",
       "    <tr>\n",
       "      <th>4</th>\n",
       "      <td>ЗАЛІЗНИЧНИЙ ВІДДІЛ ПОЛІЦІЇ ГУНП У ЛЬВІВСЬКІЙ О...</td>\n",
       "      <td>26.03.2015 19:55</td>\n",
       "      <td>Авіаційна</td>\n",
       "      <td>3В</td>\n",
       "      <td>ЗАЯВНИК</td>\n",
       "    </tr>\n",
       "  </tbody>\n",
       "</table>\n",
       "</div>"
      ],
      "text/plain": [
       "                                               Орган      Дата скоєння  \\\n",
       "0  СИХІВСЬКИЙ ВІДДІЛ ПОЛІЦІЇ ГУНП У ЛЬВІВСЬКІЙ ОБ...  31.03.2015 18:00   \n",
       "1  СИХІВСЬКИЙ ВІДДІЛ ПОЛІЦІЇ ГУНП У ЛЬВІВСЬКІЙ ОБ...  25.04.2015 11:25   \n",
       "2  СИХІВСЬКИЙ ВІДДІЛ ПОЛІЦІЇ ГУНП У ЛЬВІВСЬКІЙ ОБ...  14.08.2015 13:00   \n",
       "3  СИХІВСЬКИЙ ВІДДІЛ ПОЛІЦІЇ ГУНП У ЛЬВІВСЬКІЙ ОБ...  23.10.2015 17:06   \n",
       "4  ЗАЛІЗНИЧНИЙ ВІДДІЛ ПОЛІЦІЇ ГУНП У ЛЬВІВСЬКІЙ О...  26.03.2015 19:55   \n",
       "\n",
       "                    Вулиця Будинок EO особа  \n",
       "0  Антоненка-Давидовича Б.     NaN  ЗАЯВНИК  \n",
       "1  Антоненка-Давидовича Б.       4  ЗАЯВНИК  \n",
       "2  Антоненка-Давидовича Б.     NaN  ЗАЯВНИК  \n",
       "3  Антоненка-Давидовича Б.     NaN  ЗАЯВНИК  \n",
       "4                Авіаційна      3В  ЗАЯВНИК  "
      ]
     },
     "execution_count": 20,
     "metadata": {},
     "output_type": "execute_result"
    }
   ],
   "source": [
    "fraud.head()"
   ]
  },
  {
   "cell_type": "markdown",
   "metadata": {},
   "source": [
    "Without a column \"EO особа\", which seems to be uninformable, all datasets have a similar structure. Though they could be united in one after few column names fixed."
   ]
  },
  {
   "cell_type": "code",
   "execution_count": 21,
   "metadata": {
    "collapsed": false
   },
   "outputs": [],
   "source": [
    "del robbery[\"EO особа\"]\n",
    "del fraud[\"EO особа\"]\n",
    "\n",
    "robbery[\"Орган\"] = robbery[\"Орган/район\"]\n",
    "del robbery[\"Орган/район\"]\n",
    "\n",
    "theft[\"Орган\"] = theft[\"Орган/район\"]\n",
    "del theft[\"Орган/район\"]\n",
    "\n",
    "theft[\"Дата/час\"] = theft[\"Дата/час скоєння\"]\n",
    "del theft[\"Дата/час скоєння\"]\n",
    "\n",
    "robbery[\"Дата/час\"] = robbery[\"Дата/час скоєння\"]\n",
    "del robbery[\"Дата/час скоєння\"]\n",
    "\n",
    "fraud[\"Дата/час\"] = fraud[\"Дата скоєння\"]\n",
    "del fraud[\"Дата скоєння\"]\n",
    "\n",
    "theft[\"Тип\"] = \"Крадіжка\"\n",
    "robbery[\"Тип\"] = \"Пограбування\"\n",
    "fraud[\"Тип\"] = \"Шахрайство\""
   ]
  },
  {
   "cell_type": "code",
   "execution_count": 16,
   "metadata": {
    "collapsed": true
   },
   "outputs": [],
   "source": [
    "criminal = pd.concat([theft, robbery, fraud])"
   ]
  },
  {
   "cell_type": "markdown",
   "metadata": {},
   "source": [
    "Address in data consists of street name and house number. To project this data on the Lviv's map, I need to know latitude and longitude for each address. I have used OpenStreetMap Geocoding API to do this. But before I have done some data cleaning."
   ]
  },
  {
   "cell_type": "code",
   "execution_count": 173,
   "metadata": {
    "collapsed": true
   },
   "outputs": [],
   "source": [
    "def clean_street(street):\n",
    "    comma = street.find(\",\")\n",
    "    if(comma > -1):\n",
    "        street = street[:comma]\n",
    "    point = street.find(\".\")\n",
    "    if(point > -1):\n",
    "        street = street[:point-1]\n",
    "        \n",
    "    return street\n",
    "\n",
    "criminal[\"Вулиця\"] = criminal.apply(lambda row: clean_street(row[\"Вулиця\"]), axis=1)"
   ]
  },
  {
   "cell_type": "code",
   "execution_count": 38,
   "metadata": {
    "collapsed": false
   },
   "outputs": [],
   "source": [
    "import os\n",
    "import sys\n",
    "module_path = os.path.abspath(os.path.join('..'))\n",
    "if module_path not in sys.path:\n",
    "    sys.path.append(module_path)\n",
    "import importlib\n",
    "import geo\n",
    "importlib.reload(geo)\n",
    "from geo import request_gecoding_google, request_gecoding_osm"
   ]
  },
  {
   "cell_type": "code",
   "execution_count": 33,
   "metadata": {
    "collapsed": true
   },
   "outputs": [],
   "source": [
    "cache = {}"
   ]
  },
  {
   "cell_type": "code",
   "execution_count": 39,
   "metadata": {
    "collapsed": false
   },
   "outputs": [],
   "source": [
    "def get_from_cache_or_request(row, cache):\n",
    "    key = row[\"Вулиця\"] + \":\" + str(row[\"Будинок\"])\n",
    "    if(key not in cache):\n",
    "        result = request_gecoding_google(row[\"Вулиця\"], row[\"Будинок\"])\n",
    "        if(result is not None):\n",
    "            cache[key] = result\n",
    "        else: return None\n",
    "    \n",
    "    return cache[key]\n",
    "    \n",
    "criminal.loc[criminal[\"Latitude\"].isnull(),\"Координати\"] = criminal[criminal[\"Latitude\"].isnull()].apply(lambda row: get_from_cache_or_request(row, cache), axis=1)"
   ]
  },
  {
   "cell_type": "code",
   "execution_count": 40,
   "metadata": {
    "collapsed": false
   },
   "outputs": [],
   "source": [
    "criminal.loc[criminal[\"Координати\"].notnull(),\"Latitude\"] = criminal[criminal[\"Координати\"].notnull()].apply(lambda row: row[\"Координати\"][0] if (row[\"Координати\"] is not None) else None, axis=1)\n",
    "criminal.loc[criminal[\"Координати\"].notnull(),\"Longitude\"] = criminal[criminal[\"Координати\"].notnull()].apply(lambda row: row[\"Координати\"][1] if (row[\"Координати\"] is not None) else None, axis=1)\n",
    "del criminal[\"Координати\"]\n",
    "criminal.to_csv(\"criminal.csv\", index=False)"
   ]
  },
  {
   "cell_type": "code",
   "execution_count": 41,
   "metadata": {
    "collapsed": false
   },
   "outputs": [
    {
     "data": {
      "text/html": [
       "<div>\n",
       "<table border=\"1\" class=\"dataframe\">\n",
       "  <thead>\n",
       "    <tr style=\"text-align: right;\">\n",
       "      <th></th>\n",
       "      <th>Будинок</th>\n",
       "      <th>Вулиця</th>\n",
       "      <th>Дата/час</th>\n",
       "      <th>Орган</th>\n",
       "      <th>Тип</th>\n",
       "      <th>Час</th>\n",
       "      <th>Latitude</th>\n",
       "      <th>Longtitude</th>\n",
       "      <th>Час, секунди</th>\n",
       "    </tr>\n",
       "  </thead>\n",
       "  <tbody>\n",
       "  </tbody>\n",
       "</table>\n",
       "</div>"
      ],
      "text/plain": [
       "Empty DataFrame\n",
       "Columns: [Будинок, Вулиця, Дата/час, Орган, Тип, Час, Latitude, Longtitude, Час, секунди]\n",
       "Index: []"
      ]
     },
     "execution_count": 41,
     "metadata": {},
     "output_type": "execute_result"
    }
   ],
   "source": [
    "criminal[criminal[\"Latitude\"].isnull()]"
   ]
  },
  {
   "cell_type": "code",
   "execution_count": 30,
   "metadata": {
    "collapsed": false
   },
   "outputs": [],
   "source": [
    "import pandas as pd\n",
    "import numpy as np\n",
    "\n",
    "def tryFloat(s):\n",
    "    try:\n",
    "        return float(s)\n",
    "    except:\n",
    "        return None\n",
    "    \n",
    "\n",
    "criminal = pd.read_csv(\"criminal.csv\")\n",
    "criminal[\"Latitude\"] = criminal.apply(lambda row: tryFloat(row[\"Latitude\"]), axis = 1)\n",
    "criminal.loc[criminal[\"Latitude\"].isnull(), \"Longitude\"] = None"
   ]
  },
  {
   "cell_type": "code",
   "execution_count": 9,
   "metadata": {
    "collapsed": false
   },
   "outputs": [
    {
     "data": {
      "text/plain": [
       "Будинок                                                         7\n",
       "Вулиця                                                  Авіаційна\n",
       "Дата/час                                         23.12.2015 10:02\n",
       "Орган           ЗАЛІЗНИЧНИЙ ВІДДІЛ ПОЛІЦІЇ ГУНП У ЛЬВІВСЬКІЙ О...\n",
       "Тип                                                      Крадіжка\n",
       "Час                                                      10:02:00\n",
       "Latitude                                                     None\n",
       "Longtitude                                                   None\n",
       "Час, секунди                                                36120\n",
       "Name: 1, dtype: object"
      ]
     },
     "execution_count": 9,
     "metadata": {},
     "output_type": "execute_result"
    }
   ],
   "source": []
  },
  {
   "cell_type": "markdown",
   "metadata": {},
   "source": [
    "With data from OSM and Google Maps I collected coordinates for total majority of cases. Only 58 adresses was not found. I removed them from dataset, because they are useless on map visualization."
   ]
  },
  {
   "cell_type": "code",
   "execution_count": 43,
   "metadata": {
    "collapsed": false
   },
   "outputs": [
    {
     "data": {
      "text/plain": [
       "13329"
      ]
     },
     "execution_count": 43,
     "metadata": {},
     "output_type": "execute_result"
    }
   ],
   "source": [
    "criminal = criminal[criminal[\"Lontitude\"].notnull()]\n",
    "criminal.to_csv(\"criminal.csv\", index=False, encoding='utf8')\n",
    "len(criminal)"
   ]
  },
  {
   "cell_type": "markdown",
   "metadata": {},
   "source": [
    "Also it would be insteresting to split this data by time of a day and analyse a time distribution of criminal cases. For that I extracted time information from Date/time column. ggplot do not allow to build scale on datetime values, though I converted time to number of seconds."
   ]
  },
  {
   "cell_type": "code",
   "execution_count": 263,
   "metadata": {
    "collapsed": false
   },
   "outputs": [],
   "source": [
    "import datetime\n",
    "\n",
    "def datetime_to_time(dt_str):\n",
    "    dt_str = dt_str[:16]\n",
    "    return datetime.datetime.time(datetime.datetime.strptime(dt_str, '%d.%m.%Y %H:%M'))\n",
    "\n",
    "def time_to_float(time):\n",
    "    return datetime.timedelta(hours=time.hour,minutes=time.minute,seconds=time.second).total_seconds()\n",
    "\n",
    "criminal[\"Час\"] = criminal.apply(lambda row: datetime_to_time(row[\"Дата/час\"]), axis=1)\n",
    "criminal[\"Час, секунди\"] = criminal.apply(lambda row: time_to_float(row[\"Час\"]), axis=1)"
   ]
  },
  {
   "cell_type": "code",
   "execution_count": 264,
   "metadata": {
    "collapsed": true
   },
   "outputs": [],
   "source": [
    "criminal.to_csv(\"criminal.csv\", index=False)"
   ]
  },
  {
   "cell_type": "markdown",
   "metadata": {},
   "source": []
  },
  {
   "cell_type": "markdown",
   "metadata": {},
   "source": [
    "\n"
   ]
  }
 ],
 "metadata": {
  "anaconda-cloud": {},
  "kernelspec": {
   "display_name": "Python [py35]",
   "language": "python",
   "name": "Python [py35]"
  },
  "language_info": {
   "codemirror_mode": {
    "name": "ipython",
    "version": 3
   },
   "file_extension": ".py",
   "mimetype": "text/x-python",
   "name": "python",
   "nbconvert_exporter": "python",
   "pygments_lexer": "ipython3",
   "version": "3.5.2"
  }
 },
 "nbformat": 4,
 "nbformat_minor": 0
}
