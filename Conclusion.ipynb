{
 "cells": [
  {
   "cell_type": "markdown",
   "metadata": {},
   "source": [
    "## Conclusion\n",
    "\n",
    "### Map pre-visualization\n",
    "For a vast number of cases, it was not enough just to plot all dots and try to find patterns. Dots plot was too noisy and had no story. That is why I tried heatmap and finally stopped on district's choropleths. But I left all previous ideas as separate layers. So the main conclusion is: before planning any complex visualization, better try a simple prototype and see how it looks.\n",
    "\n",
    "### Colors\n",
    "I rejected my first idea about coding a type of criminal case by color. Instead, I used a gradient from green to red to show a density of criminal cases in a district.\n",
    "\n",
    "### Data format\n",
    "Previously, I saw research in papers where a criminal situation was estimated as a number of people in a district per one case. It could be confusable because more is better for this number. But I used green color for big numbers which indicate lower criminal rate and red for opposite. Thus, a cognitive error may be reduced. Also, my research is more accurate, because previous statistics was based on police department registration split, whereas my approach used geo information and calculated exact district for each case.\n",
    "\n",
    "### More data\n",
    "I've used Wikimapia to extract districts shapes. It is also possible to collect microdistricts shapes and made more accurate spatial clustering. \n",
    "\n"
   ]
  },
  {
   "cell_type": "code",
   "execution_count": null,
   "metadata": {
    "collapsed": true
   },
   "outputs": [],
   "source": []
  }
 ],
 "metadata": {
  "kernelspec": {
   "display_name": "Python 2",
   "language": "python",
   "name": "python2"
  },
  "language_info": {
   "codemirror_mode": {
    "name": "ipython",
    "version": 2
   },
   "file_extension": ".py",
   "mimetype": "text/x-python",
   "name": "python",
   "nbconvert_exporter": "python",
   "pygments_lexer": "ipython2",
   "version": "2.7.6"
  }
 },
 "nbformat": 4,
 "nbformat_minor": 1
}
