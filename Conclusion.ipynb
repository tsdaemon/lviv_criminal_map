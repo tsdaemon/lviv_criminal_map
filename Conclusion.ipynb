{
 "cells": [
  {
   "cell_type": "markdown",
   "metadata": {},
   "source": [
    "## Conclusion\n",
    "\n",
    "### Map pre-visualization\n",
    "For a vast number of cases, it was not enough just to plot all dots and try to find patterns. Dots plot was too noisy and had no story. That is why I tried heatmap and finally stopped on district's choropleths. But I left all previous ideas as separate layers. So the main conclusion is: before planning any complex visualization, better try a simple idea and see how it looks.\n",
    "\n",
    "###"
   ]
  }
 ],
 "metadata": {
  "kernelspec": {
   "display_name": "Python 2",
   "language": "python",
   "name": "python2"
  },
  "language_info": {
   "codemirror_mode": {
    "name": "ipython",
    "version": 2
   },
   "file_extension": ".py",
   "mimetype": "text/x-python",
   "name": "python",
   "nbconvert_exporter": "python",
   "pygments_lexer": "ipython2",
   "version": "2.7.6"
  }
 },
 "nbformat": 4,
 "nbformat_minor": 1
}
