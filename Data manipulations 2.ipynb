{
 "cells": [
  {
   "cell_type": "markdown",
   "metadata": {},
   "source": [
    "### Data manipulations after first plot\n",
    "When I plotted criminal cases on the map, I understood that this data representation is not informative. All streets and districts seem to have an equal share of cases without any clear structure. \n",
    "<img src=\"picture1.PNG\">\n",
    "There why I decided to plot city districts instead of separate cases. For this, I've extracted districts polygons from Wikimapia and calculated a number of cases for each district."
   ]
  },
  {
   "cell_type": "code",
   "execution_count": 52,
   "metadata": {
    "collapsed": true
   },
   "outputs": [],
   "source": [
    "import http.client as http\n",
    "from urllib.parse import quote\n",
    "import json\n",
    "from time import sleep\n",
    "\n",
    "def wikimapia_request(function, additional_query):\n",
    "    key = \"B0B82BBD-14BF66A1-570E2639-F470C417-38844BAF-BDB44776-EDE430B8-E7E4F573\"\n",
    "\n",
    "    query = \"/?function={0}&key={1}&format=json&\".format(function, key) + additional_query\n",
    "\n",
    "    conn = http.HTTPConnection(\"api.wikimapia.org\")\n",
    "    conn.request(\"GET\", query)\n",
    "    res = conn.getresponse()\n",
    "    res_str = res.read().decode(\"utf-8\")\n",
    "    return json.loads(res_str)\n",
    "\n",
    "districts = {\"Сихівський район\": 4556239, \n",
    "             \"Франківський район\": 5130168, \n",
    "             \"Залізничний район\": 5028866, \n",
    "             \"Шевченківський район\": 5130576, \n",
    "             \"Галицький район\": 5130483, \n",
    "             \"Личаківський район\": 5130668}\n",
    "\n",
    "def get_object_polygon(object_id, object_name):\n",
    "    function = \"place.getbyid\"\n",
    "    additional_query=\"id={0}\".format(object_id)\n",
    "    response = wikimapia_request(function, additional_query)\n",
    "    #print(response)\n",
    "    result = {\"properties\": {\"name\" : object_name},\n",
    "              \"type\":\"Feature\", \n",
    "              \"geometry\": { \"type\": \"Polygon\", \"coordinates\": [list(map(lambda c: [c[\"x\"], c[\"y\"]], response[\"polygon\"]))] }}\n",
    "    \n",
    "    return result\n",
    "\n",
    "districts_geojson = {\"type\":\"FeatureCollection\", \"features\": []}\n",
    "for dis_name in districts.keys():\n",
    "    dis_id = districts[dis_name]\n",
    "    districts_geojson[\"features\"].append(get_object_polygon(dis_id, dis_name))"
   ]
  },
  {
   "cell_type": "code",
   "execution_count": 53,
   "metadata": {
    "collapsed": true
   },
   "outputs": [],
   "source": [
    "import codecs\n",
    "with codecs.open(\"./district.geo.json\",'w', 'utf8') as f:\n",
    "    json.dump(districts_geojson, f, indent = 2, ensure_ascii = False)"
   ]
  },
  {
   "cell_type": "code",
   "execution_count": 54,
   "metadata": {
    "collapsed": true
   },
   "outputs": [],
   "source": [
    "def inside_polygon(x, y, points):\n",
    "    \"\"\"\n",
    "    Return True if a coordinate (x, y) is inside a polygon defined by\n",
    "    a list of verticies [(x1, y1), (x2, x2), ... , (xN, yN)].\n",
    "\n",
    "    Reference: http://www.ariel.com.au/a/python-point-int-poly.html\n",
    "    \"\"\"\n",
    "    n = len(points)\n",
    "    inside = False\n",
    "    [p1x, p1y] = points[0]\n",
    "    for i in range(1, n + 1):\n",
    "        [p2x, p2y] = points[i % n]\n",
    "        if y > min(p1y, p2y):\n",
    "            if y <= max(p1y, p2y):\n",
    "                if x <= max(p1x, p2x):\n",
    "                    if p1y != p2y:\n",
    "                        xinters = (y - p1y) * (p2x - p1x) / (p2y - p1y) + p1x\n",
    "                    if p1x == p2x or x <= xinters:\n",
    "                        inside = not inside\n",
    "        p1x, p1y = p2x, p2y\n",
    "    return inside"
   ]
  },
  {
   "cell_type": "code",
   "execution_count": 10,
   "metadata": {
    "collapsed": true
   },
   "outputs": [],
   "source": [
    "import pandas as pd\n",
    "criminal = pd.read_csv(\"criminal.csv\", encoding='utf8')"
   ]
  },
  {
   "cell_type": "code",
   "execution_count": 55,
   "metadata": {
    "collapsed": true
   },
   "outputs": [],
   "source": [
    "def detect_district(lon, lat):\n",
    "    for district in districts_geojson[\"features\"]:\n",
    "        coordinates = district[\"geometry\"][\"coordinates\"][0]\n",
    "        if(inside_polygon(lon, lat, coordinates)):\n",
    "            return district[\"properties\"][\"name\"]\n",
    "\n",
    "criminal[\"Район\"] = criminal.apply(lambda row: detect_district(row[\"Longitude\"], row[\"Latitude\"]), axis=1)\n",
    "criminal.to_csv(\"criminal.csv\", index=False, encoding='utf8')"
   ]
  },
  {
   "cell_type": "markdown",
   "metadata": {},
   "source": [
    "I already had an information about case police department, but I was wondering if this information is relevant to case geographical position. Also lot of cases was registered outside of Lviv boundaries. Thus I decided to check quality of obtained statistics.\n",
    "\n",
    "First I checked number of empty records."
   ]
  },
  {
   "cell_type": "code",
   "execution_count": 56,
   "metadata": {
    "collapsed": false
   },
   "outputs": [
    {
     "data": {
      "text/plain": [
       "1474"
      ]
     },
     "execution_count": 56,
     "metadata": {},
     "output_type": "execute_result"
    }
   ],
   "source": [
    "len(criminal[criminal[\"Район\"].isnull()])"
   ]
  },
  {
   "cell_type": "markdown",
   "metadata": {},
   "source": [
    "Number 1474 of wrong records is OK to go. Let's check number of cases with difference in police department and actual location."
   ]
  },
  {
   "cell_type": "code",
   "execution_count": 57,
   "metadata": {
    "collapsed": false
   },
   "outputs": [
    {
     "data": {
      "text/plain": [
       "1118"
      ]
     },
     "execution_count": 57,
     "metadata": {},
     "output_type": "execute_result"
    }
   ],
   "source": [
    "def district_is_not_department(district, department):\n",
    "    district_name = district.split(\" \")[0].lower()\n",
    "    department = department.lower()\n",
    "    return 1 if department.find(district_name) == -1 else 0\n",
    "\n",
    "wrong_dep = criminal[criminal[\"Район\"].notnull()].apply(lambda row: district_is_not_department(row[\"Район\"], row[\"Орган\"]), axis=1)\n",
    "sum(wrong_dep)"
   ]
  },
  {
   "cell_type": "markdown",
   "metadata": {},
   "source": [
    "Small number of the cases have different police department and actual location. Let's check visualization of cases by department to be sure that it is not an error of our computations.\n",
    "<img src=\"picture2.PNG\">\n",
    "It shows, that many cases was registered in police department that doesn't belong to this location. So it is not an error.\n",
    "\n",
    "Next let's calculate a district criminal rate as a relation of number of cases to district area and district population."
   ]
  },
  {
   "cell_type": "code",
   "execution_count": 8,
   "metadata": {
    "collapsed": false
   },
   "outputs": [],
   "source": [
    "import numpy as np\n",
    "import pyproj    \n",
    "import shapely\n",
    "import shapely.ops as ops\n",
    "from shapely.geometry.polygon import Polygon\n",
    "from functools import partial\n",
    "\n",
    "def poly_area(xy):\n",
    "    geom = Polygon(list(map(lambda c: tuple(c), xy)))\n",
    "    geom_area = ops.transform(\n",
    "        partial(\n",
    "            pyproj.transform,\n",
    "            pyproj.Proj(init='EPSG:4326'),\n",
    "            pyproj.Proj(\n",
    "                proj='aea',\n",
    "                lat1=geom.bounds[1],\n",
    "                lat2=geom.bounds[3])),\n",
    "        geom)\n",
    "    return geom_area.area/1000000 # square kilometers"
   ]
  },
  {
   "cell_type": "code",
   "execution_count": 11,
   "metadata": {
    "collapsed": false
   },
   "outputs": [
    {
     "name": "stderr",
     "output_type": "stream",
     "text": [
      "C:\\Users\\Anatoliy\\Anaconda2\\envs\\py35\\lib\\site-packages\\ipykernel\\__main__.py:17: UserWarning: Boolean Series key will be reindexed to match DataFrame index.\n",
      "C:\\Users\\Anatoliy\\Anaconda2\\envs\\py35\\lib\\site-packages\\ipykernel\\__main__.py:18: UserWarning: Boolean Series key will be reindexed to match DataFrame index.\n",
      "C:\\Users\\Anatoliy\\Anaconda2\\envs\\py35\\lib\\site-packages\\ipykernel\\__main__.py:19: UserWarning: Boolean Series key will be reindexed to match DataFrame index.\n"
     ]
    }
   ],
   "source": [
    "popuplations = {\"Сихівський район\": 151371, \n",
    "               \"Франківський район\": 151100, \n",
    "               \"Галицький район\": 58812,\n",
    "               \"Шевченківський район\": 144242,\n",
    "               \"Личаківський район\": 102639,\n",
    "               \"Залізничний район\": 126020,}\n",
    "\n",
    "for district in districts_geojson[\"features\"]:\n",
    "    name = district[\"properties\"][\"name\"]\n",
    "    area = poly_area(district[\"geometry\"][\"coordinates\"][0])\n",
    "    population = popuplations[name]\n",
    "    \n",
    "    district[\"properties\"][\"area\"] = area \n",
    "    district[\"properties\"][\"population\"] = population \n",
    "    \n",
    "    district[\"properties\"][\"total_cases\"] = len(criminal[criminal[\"Район\"] == name])\n",
    "    district[\"properties\"][\"fraud_cases\"] = len(criminal[criminal[\"Район\"] == name][criminal[\"Тип\"] == \"Шахрайство\"])\n",
    "    district[\"properties\"][\"theft_cases\"] = len(criminal[criminal[\"Район\"] == name][criminal[\"Тип\"] == \"Крадіжка\"])\n",
    "    district[\"properties\"][\"robbery_cases\"] = len(criminal[criminal[\"Район\"] == name][criminal[\"Тип\"] == \"Пограбування\"])\n",
    "    \n",
    "    district[\"properties\"][\"total_by_area\"] = district[\"properties\"][\"total_cases\"]/area\n",
    "    district[\"properties\"][\"fraud_by_area\"] = district[\"properties\"][\"fraud_cases\"]/area\n",
    "    district[\"properties\"][\"theft_by_area\"] = district[\"properties\"][\"theft_cases\"]/area\n",
    "    district[\"properties\"][\"robbery_by_area\"] = district[\"properties\"][\"robbery_cases\"]/area\n",
    "    \n",
    "    district[\"properties\"][\"total_by_population\"] = district[\"properties\"][\"total_cases\"]/population\n",
    "    district[\"properties\"][\"fraud_by_population\"] = district[\"properties\"][\"fraud_cases\"]/population\n",
    "    district[\"properties\"][\"theft_by_population\"] = district[\"properties\"][\"theft_cases\"]/population\n",
    "    district[\"properties\"][\"robbery_by_population\"] = district[\"properties\"][\"robbery_cases\"]/population\n",
    "\n",
    "with codecs.open(\"./district.geo.json\",'w', 'utf8') as f:\n",
    "    json.dump(districts_geojson, f, indent = 2, ensure_ascii = False)"
   ]
  },
  {
   "cell_type": "code",
   "execution_count": 12,
   "metadata": {
    "collapsed": false
   },
   "outputs": [
    {
     "data": {
      "text/plain": [
       "{'area': 33.82083009859082,\n",
       " 'fraud_by_area': 6.564002106182778,\n",
       " 'fraud_by_population': 0.0017616251388668466,\n",
       " 'fraud_cases': 222,\n",
       " 'name': 'Залізничний район',\n",
       " 'population': 126020,\n",
       " 'robbery_by_area': 3.222865898981634,\n",
       " 'robbery_by_population': 0.0008649420726868751,\n",
       " 'robbery_cases': 109,\n",
       " 'theft_by_area': 39.91622902408446,\n",
       " 'theft_by_population': 0.010712585303920013,\n",
       " 'theft_cases': 1350,\n",
       " 'total_by_area': 49.703097029248866,\n",
       " 'total_by_population': 0.013339152515473735,\n",
       " 'total_cases': 1681}"
      ]
     },
     "execution_count": 12,
     "metadata": {},
     "output_type": "execute_result"
    }
   ],
   "source": [
    "districts_geojson[\"features\"][0][\"properties\"]"
   ]
  },
  {
   "cell_type": "markdown",
   "metadata": {
    "collapsed": true
   },
   "source": [
    "Besides the map, I also want to show usual barcharts with rates for each district. To do this, I need to save this information in csv to use it as dataframe in shiny application."
   ]
  },
  {
   "cell_type": "code",
   "execution_count": 1,
   "metadata": {
    "collapsed": true
   },
   "outputs": [],
   "source": [
    "import codecs\n",
    "import json\n",
    "\n",
    "with codecs.open(\"./district.geo.json\",'r', 'utf8') as f:\n",
    "    districts_geojson = json.load(f)"
   ]
  },
  {
   "cell_type": "code",
   "execution_count": 6,
   "metadata": {
    "collapsed": false
   },
   "outputs": [],
   "source": [
    "import pandas as pd\n",
    "    \n",
    "cols = [\"name\", \"area\", \"population\", \"total_cases\", \"fraud_cases\", \"theft_cases\", \"robbery_cases\", \\\n",
    "        \"total_by_area\", \"fraud_by_area\", \"theft_by_area\", \"robbery_by_area\", \"total_by_population\", \\\n",
    "        \"fraud_by_population\", \"theft_by_population\", \"robbery_by_population\" ]\n",
    "districts = pd.DataFrame(columns=cols)\n",
    "for i in range(len(districts_geojson[\"features\"])):\n",
    "    properties = districts_geojson[\"features\"][i][\"properties\"]\n",
    "    vals = [properties[col] for col in cols]\n",
    "    districts.loc[i] = vals\n",
    "districts.to_csv(\"districts.csv\", index=False, encoding='utf8')"
   ]
  },
  {
   "cell_type": "code",
   "execution_count": null,
   "metadata": {
    "collapsed": true
   },
   "outputs": [],
   "source": []
  }
 ],
 "metadata": {
  "anaconda-cloud": {},
  "kernelspec": {
   "display_name": "Python [py35]",
   "language": "python",
   "name": "Python [py35]"
  },
  "language_info": {
   "codemirror_mode": {
    "name": "ipython",
    "version": 3
   },
   "file_extension": ".py",
   "mimetype": "text/x-python",
   "name": "python",
   "nbconvert_exporter": "python",
   "pygments_lexer": "ipython3",
   "version": "3.5.2"
  }
 },
 "nbformat": 4,
 "nbformat_minor": 0
}
