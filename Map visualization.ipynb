{
 "cells": [
  {
   "cell_type": "markdown",
   "metadata": {},
   "source": [
    "### Map visualization"
   ]
  },
  {
   "cell_type": "code",
   "execution_count": 13,
   "metadata": {
    "collapsed": false
   },
   "outputs": [
    {
     "data": {
      "text/html": [
       "<div>\n",
       "<table border=\"1\" class=\"dataframe\">\n",
       "  <thead>\n",
       "    <tr style=\"text-align: right;\">\n",
       "      <th></th>\n",
       "      <th>Будинок</th>\n",
       "      <th>Вулиця</th>\n",
       "      <th>Дата/час</th>\n",
       "      <th>Орган</th>\n",
       "      <th>Тип</th>\n",
       "      <th>Час</th>\n",
       "      <th>Latitude</th>\n",
       "      <th>Longtitude</th>\n",
       "      <th>Час, секунди</th>\n",
       "    </tr>\n",
       "  </thead>\n",
       "  <tbody>\n",
       "    <tr>\n",
       "      <th>0</th>\n",
       "      <td>11А</td>\n",
       "      <td>22 січня (Рудно)</td>\n",
       "      <td>13.09.2015 17:05</td>\n",
       "      <td>ЗАЛІЗНИЧНИЙ ВІДДІЛ ПОЛІЦІЇ ГУНП У ЛЬВІВСЬКІЙ О...</td>\n",
       "      <td>Крадіжка</td>\n",
       "      <td>17:05:00</td>\n",
       "      <td>49.834102</td>\n",
       "      <td>23.887087</td>\n",
       "      <td>61500.0</td>\n",
       "    </tr>\n",
       "    <tr>\n",
       "      <th>1</th>\n",
       "      <td>7</td>\n",
       "      <td>Авіаційна</td>\n",
       "      <td>23.12.2015 10:02</td>\n",
       "      <td>ЗАЛІЗНИЧНИЙ ВІДДІЛ ПОЛІЦІЇ ГУНП У ЛЬВІВСЬКІЙ О...</td>\n",
       "      <td>Крадіжка</td>\n",
       "      <td>10:02:00</td>\n",
       "      <td>49.810928</td>\n",
       "      <td>23.931798</td>\n",
       "      <td>36120.0</td>\n",
       "    </tr>\n",
       "    <tr>\n",
       "      <th>2</th>\n",
       "      <td>NaN</td>\n",
       "      <td>Авіаційна</td>\n",
       "      <td>05.12.2015 13:20</td>\n",
       "      <td>ЗАЛІЗНИЧНИЙ ВІДДІЛ ПОЛІЦІЇ ГУНП У ЛЬВІВСЬКІЙ О...</td>\n",
       "      <td>Крадіжка</td>\n",
       "      <td>13:20:00</td>\n",
       "      <td>49.812523</td>\n",
       "      <td>23.929722</td>\n",
       "      <td>48000.0</td>\n",
       "    </tr>\n",
       "    <tr>\n",
       "      <th>3</th>\n",
       "      <td>1</td>\n",
       "      <td>Авіаційна</td>\n",
       "      <td>30.11.2015 19:30</td>\n",
       "      <td>ЗАЛІЗНИЧНИЙ ВІДДІЛ ПОЛІЦІЇ ГУНП У ЛЬВІВСЬКІЙ О...</td>\n",
       "      <td>Крадіжка</td>\n",
       "      <td>19:30:00</td>\n",
       "      <td>49.816836</td>\n",
       "      <td>23.926929</td>\n",
       "      <td>70200.0</td>\n",
       "    </tr>\n",
       "    <tr>\n",
       "      <th>4</th>\n",
       "      <td>NaN</td>\n",
       "      <td>Авіаційна</td>\n",
       "      <td>27.11.2015 11:00</td>\n",
       "      <td>ЗАЛІЗНИЧНИЙ ВІДДІЛ ПОЛІЦІЇ ГУНП У ЛЬВІВСЬКІЙ О...</td>\n",
       "      <td>Крадіжка</td>\n",
       "      <td>11:00:00</td>\n",
       "      <td>49.812523</td>\n",
       "      <td>23.929722</td>\n",
       "      <td>39600.0</td>\n",
       "    </tr>\n",
       "  </tbody>\n",
       "</table>\n",
       "</div>"
      ],
      "text/plain": [
       "  Будинок            Вулиця          Дата/час  \\\n",
       "0     11А  22 січня (Рудно)  13.09.2015 17:05   \n",
       "1       7         Авіаційна  23.12.2015 10:02   \n",
       "2     NaN         Авіаційна  05.12.2015 13:20   \n",
       "3       1         Авіаційна  30.11.2015 19:30   \n",
       "4     NaN         Авіаційна  27.11.2015 11:00   \n",
       "\n",
       "                                               Орган       Тип       Час  \\\n",
       "0  ЗАЛІЗНИЧНИЙ ВІДДІЛ ПОЛІЦІЇ ГУНП У ЛЬВІВСЬКІЙ О...  Крадіжка  17:05:00   \n",
       "1  ЗАЛІЗНИЧНИЙ ВІДДІЛ ПОЛІЦІЇ ГУНП У ЛЬВІВСЬКІЙ О...  Крадіжка  10:02:00   \n",
       "2  ЗАЛІЗНИЧНИЙ ВІДДІЛ ПОЛІЦІЇ ГУНП У ЛЬВІВСЬКІЙ О...  Крадіжка  13:20:00   \n",
       "3  ЗАЛІЗНИЧНИЙ ВІДДІЛ ПОЛІЦІЇ ГУНП У ЛЬВІВСЬКІЙ О...  Крадіжка  19:30:00   \n",
       "4  ЗАЛІЗНИЧНИЙ ВІДДІЛ ПОЛІЦІЇ ГУНП У ЛЬВІВСЬКІЙ О...  Крадіжка  11:00:00   \n",
       "\n",
       "    Latitude  Longtitude  Час, секунди  \n",
       "0  49.834102   23.887087       61500.0  \n",
       "1  49.810928   23.931798       36120.0  \n",
       "2  49.812523   23.929722       48000.0  \n",
       "3  49.816836   23.926929       70200.0  \n",
       "4  49.812523   23.929722       39600.0  "
      ]
     },
     "execution_count": 13,
     "metadata": {},
     "output_type": "execute_result"
    }
   ],
   "source": [
    "import pandas as pd\n",
    "criminal = pd.read_csv(\"criminal.csv\")\n",
    "criminal.head()"
   ]
  },
  {
   "cell_type": "code",
   "execution_count": 14,
   "metadata": {
    "collapsed": false
   },
   "outputs": [],
   "source": [
    "minLattitude = min(criminal[\"Latitude\"])\n",
    "maxLattitude = max(criminal[\"Latitude\"])\n",
    "minLongtitude = min(criminal[\"Longtitude\"])\n",
    "maxLongtitude = max(criminal[\"Longtitude\"])\n",
    "offsetLattitude = (maxLattitude-minLattitude)/20\n",
    "offsetLongtitude = (maxLongtitude-minLongtitude)/20\n",
    "minLattitude -= offsetLattitude\n",
    "maxLattitude += offsetLattitude\n",
    "minLongtitude -= offsetLongtitude\n",
    "maxLongtitude += offsetLongtitude"
   ]
  },
  {
   "cell_type": "code",
   "execution_count": 16,
   "metadata": {
    "collapsed": false
   },
   "outputs": [
    {
     "data": {
      "image/png": "[encoded data removed]",
      "text/plain": [
       "<matplotlib.figure.Figure at 0xf7b82e1fd0>"
      ]
     },
     "metadata": {},
     "output_type": "display_data"
    }
   ],
   "source": [
    "# Import the basemap package\n",
    "from mpl_toolkits.basemap import Basemap\n",
    "import matplotlib.pyplot as plt\n",
    "%matplotlib inline\n",
    "\n",
    "# Create a map on which to draw.  We're using a mercator projection, and showing the whole world.\n",
    "m = Basemap(projection='merc',llcrnrlat=minLattitude,urcrnrlat=maxLattitude,llcrnrlon=minLongtitude,urcrnrlon=maxLongtitude,lat_ts=20,resolution='c')\n",
    "# Draw coastlines, and the edges of the map.\n",
    "m.drawcoastlines()\n",
    "m.drawmapboundary()\n",
    "# Convert latitude and longitude to x and y coordinates\n",
    "thefts = criminal[criminal[\"Тип\"] == \"Крадіжка\"]\n",
    "frauds = criminal[criminal[\"Тип\"] == \"Шахрайство\"]\n",
    "robberies = criminal[criminal[\"Тип\"] == \"Пограбування\"]\n",
    "# Use matplotlib to draw the points onto the map.\n",
    "m.scatter(thefts[\"Longtitude\"],thefts[\"Latitude\"], 1, marker='o',color='#1b9e77')\n",
    "m.scatter(frauds[\"Longtitude\"],frauds[\"Latitude\"], 1, marker='o',color='#d95f02')\n",
    "m.scatter(robberies[\"Longtitude\"],robberies[\"Latitude\"], 1, marker='o',color='#7570b3')\n",
    "# Show the plot.\n",
    "plt.show()"
   ]
  },
  {
   "cell_type": "code",
   "execution_count": null,
   "metadata": {
    "collapsed": true
   },
   "outputs": [],
   "source": []
  }
 ],
 "metadata": {
  "anaconda-cloud": {},
  "kernelspec": {
   "display_name": "Python [py35]",
   "language": "python",
   "name": "Python [py35]"
  },
  "language_info": {
   "codemirror_mode": {
    "name": "ipython",
    "version": 3
   },
   "file_extension": ".py",
   "mimetype": "text/x-python",
   "name": "python",
   "nbconvert_exporter": "python",
   "pygments_lexer": "ipython3",
   "version": "3.5.2"
  }
 },
 "nbformat": 4,
 "nbformat_minor": 0
}
